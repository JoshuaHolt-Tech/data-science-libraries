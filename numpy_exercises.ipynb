{
 "cells": [
  {
   "cell_type": "code",
   "execution_count": 1,
   "id": "8e4b9392",
   "metadata": {},
   "outputs": [],
   "source": [
    "import numpy as np"
   ]
  },
  {
   "cell_type": "code",
   "execution_count": 2,
   "id": "56dcb8a6",
   "metadata": {},
   "outputs": [],
   "source": [
    "a = np.array([4, 10, 12, 23, -2, -1, 0, 0, 0, -6, 3, -7])"
   ]
  },
  {
   "cell_type": "markdown",
   "id": "3a3c98d3",
   "metadata": {},
   "source": [
    "How many negative numbers are there?"
   ]
  },
  {
   "cell_type": "code",
   "execution_count": 3,
   "id": "c6405f2b",
   "metadata": {},
   "outputs": [
    {
     "data": {
      "text/plain": [
       "4"
      ]
     },
     "execution_count": 3,
     "metadata": {},
     "output_type": "execute_result"
    }
   ],
   "source": [
    "len(a[a % 2 != 0])"
   ]
  },
  {
   "cell_type": "markdown",
   "id": "ab5c51e9",
   "metadata": {},
   "source": [
    "How many positive numbers are there?"
   ]
  },
  {
   "cell_type": "code",
   "execution_count": 4,
   "id": "09a39b42",
   "metadata": {},
   "outputs": [
    {
     "data": {
      "text/plain": [
       "8"
      ]
     },
     "execution_count": 4,
     "metadata": {},
     "output_type": "execute_result"
    }
   ],
   "source": [
    "len(a[~a % 2 != 0])"
   ]
  },
  {
   "cell_type": "markdown",
   "id": "0206f0bf",
   "metadata": {},
   "source": [
    "How many even positive numbers are there?"
   ]
  },
  {
   "cell_type": "code",
   "execution_count": 5,
   "id": "02264c45",
   "metadata": {},
   "outputs": [
    {
     "data": {
      "text/plain": [
       "3"
      ]
     },
     "execution_count": 5,
     "metadata": {},
     "output_type": "execute_result"
    }
   ],
   "source": [
    "len(a[(a % 2 == 0) & (a > 0)])"
   ]
  },
  {
   "cell_type": "markdown",
   "id": "895f6f9d",
   "metadata": {},
   "source": [
    "If you were to add 3 to each data point, how many positive numbers would there be?"
   ]
  },
  {
   "cell_type": "code",
   "execution_count": 6,
   "id": "f995a5d2",
   "metadata": {},
   "outputs": [
    {
     "data": {
      "text/plain": [
       "10"
      ]
     },
     "execution_count": 6,
     "metadata": {},
     "output_type": "execute_result"
    }
   ],
   "source": [
    "len(a[ (a + 3 > 0)])"
   ]
  },
  {
   "cell_type": "markdown",
   "id": "de224c19",
   "metadata": {},
   "source": [
    "If you squared each number, what would the new mean and standard deviation be?"
   ]
  },
  {
   "cell_type": "code",
   "execution_count": 7,
   "id": "31c94797",
   "metadata": {},
   "outputs": [
    {
     "name": "stdout",
     "output_type": "stream",
     "text": [
      "Standard deviations =  144.0243035046516 \n",
      " Mean =  74.0\n"
     ]
    }
   ],
   "source": [
    "b_values = a**2\n",
    "print( \"Standard deviations = \", b_values.std(), \"\\n Mean = \", b_values.mean())"
   ]
  },
  {
   "cell_type": "markdown",
   "id": "a292b203",
   "metadata": {},
   "source": [
    "A common statistical operation on a dataset is centering. This means to adjust the data such that the mean of the data is 0. This is done by subtracting the mean from each data point. Center the data set. See this link for more on centering."
   ]
  },
  {
   "cell_type": "code",
   "execution_count": 8,
   "id": "4f8d35b7",
   "metadata": {},
   "outputs": [
    {
     "data": {
      "text/plain": [
       "array([  1.,   7.,   9.,  20.,  -5.,  -4.,  -3.,  -3.,  -3.,  -9.,   0.,\n",
       "       -10.])"
      ]
     },
     "execution_count": 8,
     "metadata": {},
     "output_type": "execute_result"
    }
   ],
   "source": [
    "c_values = a - a.mean()\n",
    "c_values"
   ]
  },
  {
   "cell_type": "markdown",
   "id": "51f31576",
   "metadata": {},
   "source": [
    "Calculate the z-score for each data point. Recall that the z-score is given by:\n",
    "          x\n",
    "Z =     ______\n",
    "        μ * σ"
   ]
  },
  {
   "cell_type": "code",
   "execution_count": 9,
   "id": "36c87e23",
   "metadata": {},
   "outputs": [
    {
     "data": {
      "text/plain": [
       "array([ 0.16537965,  0.41344912,  0.49613894,  0.95093297, -0.08268982,\n",
       "       -0.04134491,  0.        ,  0.        ,  0.        , -0.24806947,\n",
       "        0.12403473, -0.28941438])"
      ]
     },
     "execution_count": 9,
     "metadata": {},
     "output_type": "execute_result"
    }
   ],
   "source": [
    "d_values = a / (a.mean() * a.std())\n",
    "d_values"
   ]
  },
  {
   "cell_type": "markdown",
   "id": "ee663b77",
   "metadata": {},
   "source": [
    "Copy the setup and exercise directions from More Numpy Practice into your numpy_exercises.py and add your solutions."
   ]
  },
  {
   "cell_type": "code",
   "execution_count": 10,
   "id": "98715cf0",
   "metadata": {},
   "outputs": [],
   "source": [
    "## Setup 1\n",
    "a = np.array([1, 2, 3, 4, 5, 6, 7, 8, 9, 10])"
   ]
  },
  {
   "cell_type": "code",
   "execution_count": 11,
   "id": "9fe71052",
   "metadata": {},
   "outputs": [],
   "source": [
    "# Exercise 1 - Make a variable called sum_of_a to hold the sum of all the numbers in above list"
   ]
  },
  {
   "cell_type": "code",
   "execution_count": 12,
   "id": "d5f41caa",
   "metadata": {},
   "outputs": [
    {
     "data": {
      "text/plain": [
       "55"
      ]
     },
     "execution_count": 12,
     "metadata": {},
     "output_type": "execute_result"
    }
   ],
   "source": [
    "sum_of_a = a.sum()\n",
    "sum_of_a"
   ]
  },
  {
   "cell_type": "code",
   "execution_count": 13,
   "id": "3b512286",
   "metadata": {},
   "outputs": [],
   "source": [
    "# Exercise 2 - Make a variable named min_of_a to hold the minimum of all the numbers in the above list"
   ]
  },
  {
   "cell_type": "code",
   "execution_count": 14,
   "id": "824b831e",
   "metadata": {},
   "outputs": [
    {
     "data": {
      "text/plain": [
       "1"
      ]
     },
     "execution_count": 14,
     "metadata": {},
     "output_type": "execute_result"
    }
   ],
   "source": [
    "min_of_a = a.min()\n",
    "min_of_a"
   ]
  },
  {
   "cell_type": "code",
   "execution_count": 15,
   "id": "3ca32d25",
   "metadata": {},
   "outputs": [],
   "source": [
    "# Exercise 3 - Make a variable named max_of_a to hold the max number of all the numbers in the above list"
   ]
  },
  {
   "cell_type": "code",
   "execution_count": 16,
   "id": "05394dd3",
   "metadata": {},
   "outputs": [
    {
     "data": {
      "text/plain": [
       "10"
      ]
     },
     "execution_count": 16,
     "metadata": {},
     "output_type": "execute_result"
    }
   ],
   "source": [
    "max_of_a = a.max()\n",
    "max_of_a"
   ]
  },
  {
   "cell_type": "code",
   "execution_count": 17,
   "id": "0da6c459",
   "metadata": {},
   "outputs": [],
   "source": [
    "# Exercise 4 - Make a variable named mean_of_a to hold the average of all the numbers in the above list"
   ]
  },
  {
   "cell_type": "code",
   "execution_count": 18,
   "id": "56522dc9",
   "metadata": {},
   "outputs": [
    {
     "data": {
      "text/plain": [
       "5.5"
      ]
     },
     "execution_count": 18,
     "metadata": {},
     "output_type": "execute_result"
    }
   ],
   "source": [
    "mean_of_a = a.mean()\n",
    "mean_of_a"
   ]
  },
  {
   "cell_type": "code",
   "execution_count": 19,
   "id": "1e33b376",
   "metadata": {},
   "outputs": [],
   "source": [
    "# Exercise 5 - Make a variable named product_of_a to hold the product of:\n",
    "# multiplying all the numbers in the above list together"
   ]
  },
  {
   "cell_type": "code",
   "execution_count": 20,
   "id": "c8723b2d",
   "metadata": {},
   "outputs": [
    {
     "data": {
      "text/plain": [
       "3628800"
      ]
     },
     "execution_count": 20,
     "metadata": {},
     "output_type": "execute_result"
    }
   ],
   "source": [
    "product_of_a = a.prod()\n",
    "product_of_a"
   ]
  },
  {
   "cell_type": "code",
   "execution_count": 21,
   "id": "925a740b",
   "metadata": {},
   "outputs": [],
   "source": [
    "# Exercise 6 - Make a variable named squares_of_a. \n",
    "#It should hold each number in a squared like [1, 4, 9, 16, 25...]"
   ]
  },
  {
   "cell_type": "code",
   "execution_count": 22,
   "id": "971e77e9",
   "metadata": {},
   "outputs": [
    {
     "data": {
      "text/plain": [
       "array([  1,   4,   9,  16,  25,  36,  49,  64,  81, 100])"
      ]
     },
     "execution_count": 22,
     "metadata": {},
     "output_type": "execute_result"
    }
   ],
   "source": [
    "squares_of_a = a ** 2\n",
    "squares_of_a"
   ]
  },
  {
   "cell_type": "code",
   "execution_count": 23,
   "id": "bc25c7e0",
   "metadata": {},
   "outputs": [],
   "source": [
    "# Exercise 7 - Make a variable named odds_in_a. It should hold only the odd numbers"
   ]
  },
  {
   "cell_type": "code",
   "execution_count": 24,
   "id": "bc9c0c3b",
   "metadata": {},
   "outputs": [
    {
     "data": {
      "text/plain": [
       "array([1, 3, 5, 7, 9])"
      ]
     },
     "execution_count": 24,
     "metadata": {},
     "output_type": "execute_result"
    }
   ],
   "source": [
    "odds_of_a = a[a % 2 != 0]\n",
    "odds_of_a"
   ]
  },
  {
   "cell_type": "code",
   "execution_count": 25,
   "id": "f6e2c323",
   "metadata": {},
   "outputs": [],
   "source": [
    "# Exercise 8 - Make a variable named evens_in_a. It should hold only the evens."
   ]
  },
  {
   "cell_type": "code",
   "execution_count": 26,
   "id": "fa1e48dc",
   "metadata": {},
   "outputs": [
    {
     "data": {
      "text/plain": [
       "array([ 2,  4,  6,  8, 10])"
      ]
     },
     "execution_count": 26,
     "metadata": {},
     "output_type": "execute_result"
    }
   ],
   "source": [
    "evens_of_a = a[a % 2 == 0]\n",
    "evens_of_a"
   ]
  },
  {
   "cell_type": "markdown",
   "id": "8eb83349",
   "metadata": {},
   "source": [
    "### What about life in two dimensions? A list of lists is matrix, a table, a spreadsheet, a chessboard..."
   ]
  },
  {
   "cell_type": "markdown",
   "id": "d6774a32",
   "metadata": {},
   "source": [
    "Setup 2: Consider what it would take to find the sum, min, max, average, sum, product, and list of squares for this list of two lists."
   ]
  },
  {
   "cell_type": "code",
   "execution_count": 27,
   "id": "dfd15f03",
   "metadata": {},
   "outputs": [],
   "source": [
    "b = [\n",
    "    [3, 4, 5],\n",
    "    [6, 7, 8]\n",
    "]"
   ]
  },
  {
   "cell_type": "code",
   "execution_count": 28,
   "id": "ce142023",
   "metadata": {},
   "outputs": [],
   "source": [
    "# Exercise 1 - refactor the following to use numpy. Use sum_of_b as the variable."
   ]
  },
  {
   "cell_type": "markdown",
   "id": "fd5dd3ec",
   "metadata": {},
   "source": [
    "**Hint, you'll first need to make sure that the \"b\" variable is a numpy array**"
   ]
  },
  {
   "cell_type": "code",
   "execution_count": 29,
   "id": "dc2b31e4",
   "metadata": {},
   "outputs": [],
   "source": [
    "sum_of_b = 0\n",
    "for row in b:\n",
    "    sum_of_b += sum(row)"
   ]
  },
  {
   "cell_type": "code",
   "execution_count": 30,
   "id": "01e6bc9a",
   "metadata": {},
   "outputs": [],
   "source": [
    "b_np = np.array(b)"
   ]
  },
  {
   "cell_type": "code",
   "execution_count": 31,
   "id": "e2177d1b",
   "metadata": {},
   "outputs": [
    {
     "data": {
      "text/plain": [
       "array([ 9, 11, 13])"
      ]
     },
     "execution_count": 31,
     "metadata": {},
     "output_type": "execute_result"
    }
   ],
   "source": [
    "sum_of_b = np.sum(b_np, axis=0)\n",
    "sum_of_b"
   ]
  },
  {
   "cell_type": "code",
   "execution_count": 32,
   "id": "00c400cc",
   "metadata": {},
   "outputs": [],
   "source": [
    "# Exercise 2 - refactor the following to use numpy. \n",
    "\n",
    "min_of_b = min(b[0]) if min(b[0]) <= min(b[1]) else min(b[1])"
   ]
  },
  {
   "cell_type": "code",
   "execution_count": 33,
   "id": "3a18fdf9",
   "metadata": {},
   "outputs": [
    {
     "data": {
      "text/plain": [
       "3"
      ]
     },
     "execution_count": 33,
     "metadata": {},
     "output_type": "execute_result"
    }
   ],
   "source": [
    "min_of_b = b_np.min()\n",
    "min_of_b"
   ]
  },
  {
   "cell_type": "code",
   "execution_count": 34,
   "id": "05a1ec98",
   "metadata": {},
   "outputs": [],
   "source": [
    "# Exercise 3 - refactor the following maximum calculation to find the answer with numpy.\n",
    "\n",
    "max_of_b = max(b[0]) if max(b[0]) >= max(b[1]) else max(b[1])"
   ]
  },
  {
   "cell_type": "code",
   "execution_count": 35,
   "id": "00a90a3b",
   "metadata": {},
   "outputs": [
    {
     "data": {
      "text/plain": [
       "8"
      ]
     },
     "execution_count": 35,
     "metadata": {},
     "output_type": "execute_result"
    }
   ],
   "source": [
    "max_of_b = b_np.max()\n",
    "max_of_b"
   ]
  },
  {
   "cell_type": "code",
   "execution_count": 36,
   "id": "d6746747",
   "metadata": {},
   "outputs": [],
   "source": [
    "# Exercise 4 - refactor the following using numpy to find the mean of b\n",
    "\n",
    "mean_of_b = (sum(b[0]) + sum(b[1])) / (len(b[0]) + len(b[1]))"
   ]
  },
  {
   "cell_type": "code",
   "execution_count": 37,
   "id": "b55e84e3",
   "metadata": {},
   "outputs": [
    {
     "data": {
      "text/plain": [
       "5.5"
      ]
     },
     "execution_count": 37,
     "metadata": {},
     "output_type": "execute_result"
    }
   ],
   "source": [
    "mean_of_b = b_np.mean()\n",
    "mean_of_b"
   ]
  },
  {
   "cell_type": "code",
   "execution_count": 38,
   "id": "586f7308",
   "metadata": {},
   "outputs": [],
   "source": [
    "# Exercise 5 - refactor the following to use numpy for calculating the product of all numbers multiplied together.\n",
    "\n",
    "product_of_b = 1\n",
    "\n",
    "for row in b:\n",
    "    for number in row:\n",
    "        product_of_b *= number"
   ]
  },
  {
   "cell_type": "code",
   "execution_count": 39,
   "id": "87e406ac",
   "metadata": {},
   "outputs": [
    {
     "data": {
      "text/plain": [
       "20160"
      ]
     },
     "execution_count": 39,
     "metadata": {},
     "output_type": "execute_result"
    }
   ],
   "source": [
    "product_of_b = b_np.prod()\n",
    "product_of_b"
   ]
  },
  {
   "cell_type": "code",
   "execution_count": 40,
   "id": "4205c12f",
   "metadata": {},
   "outputs": [],
   "source": [
    "# Exercise 6 - refactor the following to use numpy to find the list of squares \n",
    "\n",
    "squares_of_b = []\n",
    "for row in b:\n",
    "    for number in row:\n",
    "        squares_of_b.append(number**2)"
   ]
  },
  {
   "cell_type": "code",
   "execution_count": 41,
   "id": "2e4ea7e1",
   "metadata": {},
   "outputs": [
    {
     "data": {
      "text/plain": [
       "array([[ 9, 16, 25],\n",
       "       [36, 49, 64]])"
      ]
     },
     "execution_count": 41,
     "metadata": {},
     "output_type": "execute_result"
    }
   ],
   "source": [
    "squares_of_b = b_np ** 2\n",
    "squares_of_b"
   ]
  },
  {
   "cell_type": "code",
   "execution_count": 42,
   "id": "98dd5053",
   "metadata": {},
   "outputs": [],
   "source": [
    "# Exercise 7 - refactor using numpy to determine the odds_in_b\n",
    "odds_in_b = []\n",
    "for row in b:\n",
    "    for number in row:\n",
    "        if(number % 2 != 0):\n",
    "            odds_in_b.append(number)"
   ]
  },
  {
   "cell_type": "code",
   "execution_count": 43,
   "id": "6d1853ee",
   "metadata": {},
   "outputs": [
    {
     "data": {
      "text/plain": [
       "array([3, 5, 7])"
      ]
     },
     "execution_count": 43,
     "metadata": {},
     "output_type": "execute_result"
    }
   ],
   "source": [
    "odds_in_b = b_np[b_np % 2 != 0]\n",
    "odds_in_b"
   ]
  },
  {
   "cell_type": "code",
   "execution_count": 44,
   "id": "5d115432",
   "metadata": {},
   "outputs": [],
   "source": [
    "# Exercise 8 - refactor the following to use numpy to filter only the even numbers\n",
    "evens_in_b = []\n",
    "for row in b:\n",
    "    for number in row:\n",
    "        if(number % 2 == 0):\n",
    "            evens_in_b.append(number)"
   ]
  },
  {
   "cell_type": "code",
   "execution_count": 45,
   "id": "670c800f",
   "metadata": {},
   "outputs": [
    {
     "data": {
      "text/plain": [
       "array([4, 6, 8])"
      ]
     },
     "execution_count": 45,
     "metadata": {},
     "output_type": "execute_result"
    }
   ],
   "source": [
    "evens_in_b = b_np[b_np % 2 == 0]\n",
    "evens_in_b"
   ]
  },
  {
   "cell_type": "code",
   "execution_count": 46,
   "id": "511bbc41",
   "metadata": {},
   "outputs": [],
   "source": [
    "# Exercise 9 - print out the shape of the array b."
   ]
  },
  {
   "cell_type": "code",
   "execution_count": 47,
   "id": "81bd02b9",
   "metadata": {},
   "outputs": [
    {
     "data": {
      "text/plain": [
       "(2, 3)"
      ]
     },
     "execution_count": 47,
     "metadata": {},
     "output_type": "execute_result"
    }
   ],
   "source": [
    "np.shape(b_np)"
   ]
  },
  {
   "cell_type": "code",
   "execution_count": 48,
   "id": "d40450c3",
   "metadata": {},
   "outputs": [],
   "source": [
    "# Exercise 10 - transpose the array b."
   ]
  },
  {
   "cell_type": "code",
   "execution_count": 49,
   "id": "cdf61793",
   "metadata": {},
   "outputs": [
    {
     "data": {
      "text/plain": [
       "array([[3, 6],\n",
       "       [4, 7],\n",
       "       [5, 8]])"
      ]
     },
     "execution_count": 49,
     "metadata": {},
     "output_type": "execute_result"
    }
   ],
   "source": [
    "np.transpose(b_np)"
   ]
  },
  {
   "cell_type": "code",
   "execution_count": 50,
   "id": "81aaa374",
   "metadata": {},
   "outputs": [],
   "source": [
    "# Exercise 11 - reshape the array b to be a single list of 6 numbers. (1 x 6)"
   ]
  },
  {
   "cell_type": "code",
   "execution_count": 51,
   "id": "46775078",
   "metadata": {},
   "outputs": [
    {
     "data": {
      "text/plain": [
       "array([[3, 4, 5, 6, 7, 8]])"
      ]
     },
     "execution_count": 51,
     "metadata": {},
     "output_type": "execute_result"
    }
   ],
   "source": [
    "n_np_flat = np.reshape(b_np,(1,6))\n",
    "n_np_flat"
   ]
  },
  {
   "cell_type": "code",
   "execution_count": 52,
   "id": "9a53e298",
   "metadata": {},
   "outputs": [],
   "source": [
    "# Exercise 12 - reshape the array b to be a list of 6 lists, each containing only 1 number (6 x 1)"
   ]
  },
  {
   "cell_type": "code",
   "execution_count": 53,
   "id": "f2bbf9e7",
   "metadata": {},
   "outputs": [
    {
     "data": {
      "text/plain": [
       "array([[3],\n",
       "       [4],\n",
       "       [5],\n",
       "       [6],\n",
       "       [7],\n",
       "       [8]])"
      ]
     },
     "execution_count": 53,
     "metadata": {},
     "output_type": "execute_result"
    }
   ],
   "source": [
    "n_np_tall = np.reshape(b_np,(6,1))\n",
    "n_np_tall"
   ]
  },
  {
   "cell_type": "code",
   "execution_count": 54,
   "id": "954d274e",
   "metadata": {},
   "outputs": [],
   "source": [
    "## Setup 3\n",
    "c = [\n",
    "    [1, 2, 3],\n",
    "    [4, 5, 6],\n",
    "    [7, 8, 9]\n",
    "]"
   ]
  },
  {
   "cell_type": "code",
   "execution_count": 55,
   "id": "e9edfdff",
   "metadata": {},
   "outputs": [],
   "source": [
    "c_np = np.array(c)"
   ]
  },
  {
   "cell_type": "markdown",
   "id": "66025fe4",
   "metadata": {},
   "source": [
    "HINT, you'll first need to make sure that the \"c\" variable is a numpy array prior to using numpy array methods."
   ]
  },
  {
   "cell_type": "code",
   "execution_count": 56,
   "id": "64aeda50",
   "metadata": {},
   "outputs": [
    {
     "name": "stdout",
     "output_type": "stream",
     "text": [
      "1\n",
      "9\n",
      "45\n",
      "362880\n"
     ]
    }
   ],
   "source": [
    "# Exercise 1 - Find the min, max, sum, and product of c.\n",
    "print(c_np.min())\n",
    "print(c_np.max())\n",
    "print(c_np.sum())\n",
    "print(c_np.prod())"
   ]
  },
  {
   "cell_type": "code",
   "execution_count": 57,
   "id": "b02437bd",
   "metadata": {},
   "outputs": [],
   "source": [
    "# Exercise 2 - Determine the standard deviation of c."
   ]
  },
  {
   "cell_type": "code",
   "execution_count": 58,
   "id": "d9cbac8b",
   "metadata": {},
   "outputs": [
    {
     "data": {
      "text/plain": [
       "2.581988897471611"
      ]
     },
     "execution_count": 58,
     "metadata": {},
     "output_type": "execute_result"
    }
   ],
   "source": [
    "c_np.std()"
   ]
  },
  {
   "cell_type": "code",
   "execution_count": 59,
   "id": "1745195b",
   "metadata": {},
   "outputs": [],
   "source": [
    "# Exercise 3 - Determine the variance of c."
   ]
  },
  {
   "cell_type": "code",
   "execution_count": 60,
   "id": "c9ce4cbe",
   "metadata": {},
   "outputs": [
    {
     "data": {
      "text/plain": [
       "6.666666666666667"
      ]
     },
     "execution_count": 60,
     "metadata": {},
     "output_type": "execute_result"
    }
   ],
   "source": [
    "c_np.var()"
   ]
  },
  {
   "cell_type": "code",
   "execution_count": 61,
   "id": "ca7a029b",
   "metadata": {},
   "outputs": [],
   "source": [
    "# Exercise 4 - Print out the shape of the array c"
   ]
  },
  {
   "cell_type": "code",
   "execution_count": 62,
   "id": "7a2468b4",
   "metadata": {},
   "outputs": [
    {
     "name": "stdout",
     "output_type": "stream",
     "text": [
      "(3, 3)\n"
     ]
    }
   ],
   "source": [
    "print(np.shape(c_np))"
   ]
  },
  {
   "cell_type": "code",
   "execution_count": 63,
   "id": "3fdb01d3",
   "metadata": {},
   "outputs": [],
   "source": [
    "# Exercise 5 - Transpose c and print out transposed result."
   ]
  },
  {
   "cell_type": "code",
   "execution_count": 64,
   "id": "93d826e4",
   "metadata": {},
   "outputs": [
    {
     "name": "stdout",
     "output_type": "stream",
     "text": [
      "[[1 4 7]\n",
      " [2 5 8]\n",
      " [3 6 9]]\n"
     ]
    }
   ],
   "source": [
    "print(np.transpose(c_np))"
   ]
  },
  {
   "cell_type": "code",
   "execution_count": 65,
   "id": "c7aab803",
   "metadata": {},
   "outputs": [],
   "source": [
    "# Exercise 6 - Get the dot product of the array c with c. "
   ]
  },
  {
   "cell_type": "code",
   "execution_count": 66,
   "id": "cdb67d92",
   "metadata": {},
   "outputs": [
    {
     "data": {
      "text/plain": [
       "131681894400"
      ]
     },
     "execution_count": 66,
     "metadata": {},
     "output_type": "execute_result"
    }
   ],
   "source": [
    "new_thing = c_np.prod() * c_np.prod()\n",
    "new_thing"
   ]
  },
  {
   "cell_type": "code",
   "execution_count": 67,
   "id": "67782c86",
   "metadata": {},
   "outputs": [],
   "source": [
    "# Exercise 7 - Write the code necessary to sum up the result of c times c transposed. Answer should be 261"
   ]
  },
  {
   "cell_type": "code",
   "execution_count": 68,
   "id": "9c0c9b92",
   "metadata": {},
   "outputs": [
    {
     "data": {
      "text/plain": [
       "261"
      ]
     },
     "execution_count": 68,
     "metadata": {},
     "output_type": "execute_result"
    }
   ],
   "source": [
    "complex_answer = sum(sum(c_np * np.transpose(c_np)))\n",
    "complex_answer"
   ]
  },
  {
   "cell_type": "code",
   "execution_count": 69,
   "id": "443b98ae",
   "metadata": {},
   "outputs": [],
   "source": [
    "# Exercise 8 - Write the code necessary to determine the product of c times c transposed. \n",
    "# Answer should be 131681894400."
   ]
  },
  {
   "cell_type": "code",
   "execution_count": 70,
   "id": "bab4dcf8",
   "metadata": {},
   "outputs": [
    {
     "data": {
      "text/plain": [
       "131681894400"
      ]
     },
     "execution_count": 70,
     "metadata": {},
     "output_type": "execute_result"
    }
   ],
   "source": [
    "prod_answer = np.prod(c_np * np.transpose(c_np))\n",
    "prod_answer"
   ]
  },
  {
   "cell_type": "code",
   "execution_count": 71,
   "id": "9f9d110c",
   "metadata": {},
   "outputs": [],
   "source": [
    "d = [\n",
    "    [90, 30, 45, 0, 120, 180],\n",
    "    [45, -90, -30, 270, 90, 0],\n",
    "    [60, 45, -45, 90, -45, 180]\n",
    "]"
   ]
  },
  {
   "cell_type": "code",
   "execution_count": 82,
   "id": "2524c4d2",
   "metadata": {},
   "outputs": [],
   "source": [
    "d_np = np.array(d)"
   ]
  },
  {
   "cell_type": "code",
   "execution_count": 72,
   "id": "4bd1719c",
   "metadata": {},
   "outputs": [],
   "source": [
    "# Exercise 1 - Find the sine of all the numbers in d"
   ]
  },
  {
   "cell_type": "code",
   "execution_count": 84,
   "id": "e8834d88",
   "metadata": {},
   "outputs": [
    {
     "data": {
      "text/plain": [
       "array([[ 0.89399666, -0.98803162,  0.85090352,  0.        ,  0.58061118,\n",
       "        -0.80115264],\n",
       "       [ 0.85090352, -0.89399666,  0.98803162, -0.17604595,  0.89399666,\n",
       "         0.        ],\n",
       "       [-0.30481062,  0.85090352, -0.85090352,  0.89399666, -0.85090352,\n",
       "        -0.80115264]])"
      ]
     },
     "execution_count": 84,
     "metadata": {},
     "output_type": "execute_result"
    }
   ],
   "source": [
    "np.sin(d_np)"
   ]
  },
  {
   "cell_type": "code",
   "execution_count": 73,
   "id": "edd88002",
   "metadata": {},
   "outputs": [],
   "source": [
    "# Exercise 2 - Find the cosine of all the numbers in d"
   ]
  },
  {
   "cell_type": "code",
   "execution_count": 85,
   "id": "57ac4500",
   "metadata": {},
   "outputs": [
    {
     "data": {
      "text/plain": [
       "array([[-0.44807362,  0.15425145,  0.52532199,  1.        ,  0.81418097,\n",
       "        -0.59846007],\n",
       "       [ 0.52532199, -0.44807362,  0.15425145,  0.98438195, -0.44807362,\n",
       "         1.        ],\n",
       "       [-0.95241298,  0.52532199,  0.52532199, -0.44807362,  0.52532199,\n",
       "        -0.59846007]])"
      ]
     },
     "execution_count": 85,
     "metadata": {},
     "output_type": "execute_result"
    }
   ],
   "source": [
    "np.cos(d_np)"
   ]
  },
  {
   "cell_type": "code",
   "execution_count": 74,
   "id": "160570ee",
   "metadata": {},
   "outputs": [],
   "source": [
    "# Exercise 3 - Find the tangent of all the numbers in d"
   ]
  },
  {
   "cell_type": "code",
   "execution_count": 86,
   "id": "65698a07",
   "metadata": {},
   "outputs": [
    {
     "data": {
      "text/plain": [
       "array([[-1.99520041, -6.4053312 ,  1.61977519,  0.        ,  0.71312301,\n",
       "         1.33869021],\n",
       "       [ 1.61977519,  1.99520041,  6.4053312 , -0.17883906, -1.99520041,\n",
       "         0.        ],\n",
       "       [ 0.32004039,  1.61977519, -1.61977519, -1.99520041, -1.61977519,\n",
       "         1.33869021]])"
      ]
     },
     "execution_count": 86,
     "metadata": {},
     "output_type": "execute_result"
    }
   ],
   "source": [
    "np.tan(d_np)"
   ]
  },
  {
   "cell_type": "code",
   "execution_count": 75,
   "id": "acd1531d",
   "metadata": {},
   "outputs": [],
   "source": [
    "# Exercise 4 - Find all the negative numbers in d"
   ]
  },
  {
   "cell_type": "code",
   "execution_count": 87,
   "id": "73634f2e",
   "metadata": {},
   "outputs": [
    {
     "data": {
      "text/plain": [
       "array([-90, -30, -45, -45])"
      ]
     },
     "execution_count": 87,
     "metadata": {},
     "output_type": "execute_result"
    }
   ],
   "source": [
    "d_np[d_np < 0]"
   ]
  },
  {
   "cell_type": "code",
   "execution_count": 76,
   "id": "61360e5c",
   "metadata": {},
   "outputs": [],
   "source": [
    "# Exercise 5 - Find all the positive numbers in d"
   ]
  },
  {
   "cell_type": "code",
   "execution_count": 88,
   "id": "0b1dcb08",
   "metadata": {},
   "outputs": [
    {
     "data": {
      "text/plain": [
       "array([ 90,  30,  45, 120, 180,  45, 270,  90,  60,  45,  90, 180])"
      ]
     },
     "execution_count": 88,
     "metadata": {},
     "output_type": "execute_result"
    }
   ],
   "source": [
    "d_np[d_np > 0]"
   ]
  },
  {
   "cell_type": "code",
   "execution_count": 77,
   "id": "cb6485ab",
   "metadata": {},
   "outputs": [],
   "source": [
    "# Exercise 6 - Return an array of only the unique numbers in d."
   ]
  },
  {
   "cell_type": "code",
   "execution_count": 89,
   "id": "a2fba79d",
   "metadata": {},
   "outputs": [
    {
     "data": {
      "text/plain": [
       "array([-90, -45, -30,   0,  30,  45,  60,  90, 120, 180, 270])"
      ]
     },
     "execution_count": 89,
     "metadata": {},
     "output_type": "execute_result"
    }
   ],
   "source": [
    "np.unique(d_np)"
   ]
  },
  {
   "cell_type": "code",
   "execution_count": 78,
   "id": "2f918d66",
   "metadata": {},
   "outputs": [],
   "source": [
    "# Exercise 7 - Determine how many unique numbers there are in d."
   ]
  },
  {
   "cell_type": "code",
   "execution_count": 91,
   "id": "296f31ab",
   "metadata": {},
   "outputs": [
    {
     "data": {
      "text/plain": [
       "11"
      ]
     },
     "execution_count": 91,
     "metadata": {},
     "output_type": "execute_result"
    }
   ],
   "source": [
    "len(np.unique(d_np))"
   ]
  },
  {
   "cell_type": "code",
   "execution_count": 79,
   "id": "f5f8cff7",
   "metadata": {},
   "outputs": [],
   "source": [
    "# Exercise 8 - Print out the shape of d."
   ]
  },
  {
   "cell_type": "code",
   "execution_count": 92,
   "id": "803a0b03",
   "metadata": {},
   "outputs": [
    {
     "data": {
      "text/plain": [
       "(3, 6)"
      ]
     },
     "execution_count": 92,
     "metadata": {},
     "output_type": "execute_result"
    }
   ],
   "source": [
    "np.shape(d_np)"
   ]
  },
  {
   "cell_type": "code",
   "execution_count": 80,
   "id": "d8ddfda5",
   "metadata": {},
   "outputs": [],
   "source": [
    "# Exercise 9 - Transpose and then print out the shape of d."
   ]
  },
  {
   "cell_type": "code",
   "execution_count": 94,
   "id": "be76be32",
   "metadata": {},
   "outputs": [
    {
     "data": {
      "text/plain": [
       "(6, 3)"
      ]
     },
     "execution_count": 94,
     "metadata": {},
     "output_type": "execute_result"
    }
   ],
   "source": [
    "np.shape(np.transpose(d_np))"
   ]
  },
  {
   "cell_type": "code",
   "execution_count": 81,
   "id": "c38fdb99",
   "metadata": {},
   "outputs": [],
   "source": [
    "# Exercise 10 - Reshape d into an array of 9 x 2"
   ]
  },
  {
   "cell_type": "code",
   "execution_count": 95,
   "id": "47ab8caf",
   "metadata": {},
   "outputs": [
    {
     "data": {
      "text/plain": [
       "array([[ 90,  30],\n",
       "       [ 45,   0],\n",
       "       [120, 180],\n",
       "       [ 45, -90],\n",
       "       [-30, 270],\n",
       "       [ 90,   0],\n",
       "       [ 60,  45],\n",
       "       [-45,  90],\n",
       "       [-45, 180]])"
      ]
     },
     "execution_count": 95,
     "metadata": {},
     "output_type": "execute_result"
    }
   ],
   "source": [
    "np.reshape(d_np, (9,2))"
   ]
  },
  {
   "cell_type": "code",
   "execution_count": null,
   "id": "103f87fb",
   "metadata": {},
   "outputs": [],
   "source": []
  }
 ],
 "metadata": {
  "kernelspec": {
   "display_name": "Python 3 (ipykernel)",
   "language": "python",
   "name": "python3"
  },
  "language_info": {
   "codemirror_mode": {
    "name": "ipython",
    "version": 3
   },
   "file_extension": ".py",
   "mimetype": "text/x-python",
   "name": "python",
   "nbconvert_exporter": "python",
   "pygments_lexer": "ipython3",
   "version": "3.9.12"
  }
 },
 "nbformat": 4,
 "nbformat_minor": 5
}
